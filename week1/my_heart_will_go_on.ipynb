{
 "cells": [
  {
   "cell_type": "markdown",
   "metadata": {},
   "source": [
    "# Predicting Titanic Survial\n",
    "\n",
    "Welcome to data guild! This week exercise we are going to predict titanic surival together using the knowledge we have been accumulated!\n",
    "\n",
    "We are going to do some\n",
    "\n",
    "* data ingestion\n",
    "* exploratory data analysis\n",
    "* selecting features\n",
    "* dealing with the missing values\n",
    "* do the machine learning (classification)\n",
    "* measure it's performance\n",
    "* select the best model to use\n",
    "\n",
    "Let's get started!"
   ]
  },
  {
   "cell_type": "markdown",
   "metadata": {},
   "source": [
    "## Data Ingestion\n",
    "\n",
    "Let's load the data from `titanic_data/train.csv`"
   ]
  },
  {
   "cell_type": "code",
   "execution_count": null,
   "metadata": {},
   "outputs": [],
   "source": [
    "import pandas as pd\n",
    "\n",
    "# let's read the data!\n",
    "df = _"
   ]
  },
  {
   "cell_type": "markdown",
   "metadata": {},
   "source": [
    "If you wonder what does each column means, please look at the data dictionary [here](https://www.kaggle.com/c/titanic/data)."
   ]
  },
  {
   "cell_type": "markdown",
   "metadata": {},
   "source": [
    "## Exploratory Data Analysis\n",
    "\n",
    "What do we want to know about the data?"
   ]
  },
  {
   "cell_type": "code",
   "execution_count": null,
   "metadata": {},
   "outputs": [],
   "source": [
    "# run this cell to setup\n",
    "\n",
    "import matplotlib.pyplot as plt\n",
    "import seaborn as sns\n",
    "\n",
    "sns.set(rc={'figure.figsize':(11.7,8.27)})"
   ]
  },
  {
   "cell_type": "code",
   "execution_count": null,
   "metadata": {},
   "outputs": [],
   "source": [
    "# Let's expolore"
   ]
  },
  {
   "cell_type": "markdown",
   "metadata": {},
   "source": [
    "## Building Classifier\n",
    "\n",
    "Now we have got some insight from the data. We know where are the missing values. We know which features have high contribution to the survival rate.\n",
    "\n",
    "Let the machine learn!\n",
    "\n",
    "Before we start, since the classifier we learned so far needs numerical values to operate on, so we need to do some encoding for all the categorical features. Let's use one-hot encoding.\n",
    "\n",
    "One-hot encoding is encoding categorical values into separated binary features. For example:"
   ]
  },
  {
   "cell_type": "code",
   "execution_count": null,
   "metadata": {},
   "outputs": [],
   "source": [
    "# run this cell to see the example!\n",
    "\n",
    "cat_sex = df['Sex']\n",
    "one_hot_sex = pd.get_dummies(cat_sex)\n",
    "\n",
    "pd.concat([cat_sex, one_hot_sex], axis=1).head()"
   ]
  },
  {
   "cell_type": "markdown",
   "metadata": {},
   "source": [
    "Now, at least we have some feature to train the classifier. Let's train a classifier and evaluate it!\n",
    "\n",
    "To evaluate classifier, we use accuracy metric which we have already learned about. To avoid overfitting, we will do *k-fold cross validation* which basically do the same spliting (train/test) like what we have learned but it spilts the data into k sets (you can choose the k but normally 10) and do it like this:\n",
    "\n",
    "![](https://qph.fs.quoracdn.net/main-qimg-598bb0cf54a546eec9ef1d5d39294386)\n",
    "\n",
    "By using\n",
    "\n",
    "```python\n",
    "from sklearn.model_selection import cross_val_score\n",
    "cross_val_score(classifier, X, y, cv=10) # cv is number of folds\n",
    "```"
   ]
  },
  {
   "cell_type": "code",
   "execution_count": null,
   "metadata": {},
   "outputs": [],
   "source": [
    "# Let's build knn classifier using one-hot encoded sex and cross validate it!"
   ]
  },
  {
   "cell_type": "markdown",
   "metadata": {},
   "source": [
    "## Model Selection\n",
    "\n",
    "Let's try adjusting the knob (eg. change k, adding more features, change algorithm) and see which one is the best option."
   ]
  },
  {
   "cell_type": "code",
   "execution_count": null,
   "metadata": {},
   "outputs": [],
   "source": []
  },
  {
   "cell_type": "markdown",
   "metadata": {},
   "source": [
    "Now we know that which model is the best for us so far. Let's use that model to predict our test data (`test.csv`)! If save it to the same format as `gender_submission.csv`, we can submit it Kaggle."
   ]
  },
  {
   "cell_type": "code",
   "execution_count": null,
   "metadata": {},
   "outputs": [],
   "source": []
  }
 ],
 "metadata": {
  "kernelspec": {
   "display_name": "Python 3",
   "language": "python",
   "name": "python3"
  },
  "language_info": {
   "codemirror_mode": {
    "name": "ipython",
    "version": 3
   },
   "file_extension": ".py",
   "mimetype": "text/x-python",
   "name": "python",
   "nbconvert_exporter": "python",
   "pygments_lexer": "ipython3",
   "version": "3.6.7"
  }
 },
 "nbformat": 4,
 "nbformat_minor": 2
}
